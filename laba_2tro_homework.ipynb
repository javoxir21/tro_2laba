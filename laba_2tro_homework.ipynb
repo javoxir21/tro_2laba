{
 "cells": [
  {
   "cell_type": "markdown",
   "id": "e1017050",
   "metadata": {},
   "source": [
    "# Задание №1"
   ]
  },
  {
   "cell_type": "markdown",
   "id": "2bdb65b7",
   "metadata": {},
   "source": [
    "Создайте два массива: в первом должны быть четные числа от 2 до 12 включительно, а в другом числа 7, 11, 15, 18, 23, 29\n",
    "1. Сложите массивы и возведите элементы получившегося массива в квадрат:"
   ]
  },
  {
   "cell_type": "code",
   "execution_count": 2,
   "id": "40e7d859",
   "metadata": {},
   "outputs": [
    {
     "name": "stdout",
     "output_type": "stream",
     "text": [
      "[  81  225  441  676 1089 1681]\n"
     ]
    }
   ],
   "source": [
    "import numpy as np\n",
    "\n",
    "a = np.arange(1,7) * 2\n",
    "b = np.array([7, 11, 15, 18, 23, 29])\n",
    "print((a + b) ** 2)"
   ]
  },
  {
   "cell_type": "markdown",
   "id": "b651cb70",
   "metadata": {},
   "source": [
    "2. Выведите все элементы из первого массива, индексы которых соответствуют индексам тех элементов второго массива, которые больше 12 и дают остаток 3 при деление на 5."
   ]
  },
  {
   "cell_type": "code",
   "execution_count": 3,
   "id": "fe270f78",
   "metadata": {},
   "outputs": [
    {
     "data": {
      "text/plain": [
       "array([ 8, 10])"
      ]
     },
     "execution_count": 3,
     "metadata": {},
     "output_type": "execute_result"
    }
   ],
   "source": [
    "a[np.where ((b > 12) & (b % 5 == 3))]"
   ]
  },
  {
   "cell_type": "markdown",
   "id": "b721b135",
   "metadata": {},
   "source": [
    "3. Проверьте условие \"Элементы первого массива делятся на 4, элементы второго массива меньше 14\".\n",
    "(Подсказка: в результате должен получиться массив с True и False)"
   ]
  },
  {
   "cell_type": "code",
   "execution_count": 4,
   "id": "3a85e89e",
   "metadata": {},
   "outputs": [
    {
     "data": {
      "text/plain": [
       "array([False,  True, False, False, False, False])"
      ]
     },
     "execution_count": 4,
     "metadata": {},
     "output_type": "execute_result"
    }
   ],
   "source": [
    "(a % 4 == 0) & (b < 14)"
   ]
  },
  {
   "cell_type": "markdown",
   "id": "a5c8e3e8",
   "metadata": {},
   "source": [
    "# Задание №2"
   ]
  },
  {
   "cell_type": "markdown",
   "id": "2169e503",
   "metadata": {},
   "source": [
    "Найдите интересный для вас датасет. Например, можно выбрать датасет тут. http://data.un.org/Explorer.aspx (выбираете датасет, жмете на view data, потом download, выбирайте csv формат)\n",
    "Рассчитайте подходящие описательные статистики для признаков объектов в выбранном датасете\n",
    "Проанализируйте и прокомментируйте содержательно получившиеся результаты\n",
    "Все комментарии оформляйте строго в ячейках формата markdown"
   ]
  },
  {
   "cell_type": "code",
   "execution_count": 7,
   "id": "b60019c6",
   "metadata": {},
   "outputs": [
    {
     "name": "stdout",
     "output_type": "stream",
     "text": [
      "Выбросы от сжыгание топливо в мире  550.3751784030945, Выбросы от сжыгание топливо в Росии: 2.2385420448174487\n",
      "Среднее коэффициент выбросов в мире 1212.612848530972, Среднее коэффициент выбросов в России: 0.5603883620707869\n",
      "Интенсивность при неизменном паритете покупательной спасобности в мире 221.03628085, Интенсивность при неизменном паритете покупательной спасобности в России: 0.3140351163443793\n",
      "Общее производства эненгии в мире 1470429.9204223985, Общее производства эненгии в России: 0.3140351163443793\n"
     ]
    }
   ],
   "source": [
    "import csv\n",
    "import numpy as np \n",
    "with open('Energy data 1990 - 2020.csv', 'r', newline='', encoding='utf-8') as csvfile:\n",
    "    reader = csv.reader(csvfile, delimiter=',')\n",
    "    glob = []\n",
    "    rus = []\n",
    "    next(reader)\n",
    "    for i in reader:\n",
    "        glob.append(float(i[3]))\n",
    "        rus.append(float(i[4]))\n",
    "    stat_glob = np.array(glob)\n",
    "    stat_rus = np.array(rus)\n",
    "    print(f\"Выбросы от сжыгание топливо в мире  {np.mean(stat_glob)}, Выбросы от сжыгание топливо в Росии: {np.mean(stat_rus)}\")\n",
    "    print(f\"Среднее коэффициент выбросов в мире {np.std(stat_glob)}, Среднее коэффициент выбросов в России: {np.std(stat_rus)}\")\n",
    "    print(f\"Интенсивность при неизменном паритете покупательной спасобности в мире {np.median(stat_glob)}, Интенсивность при неизменном паритете покупательной спасобности в России: {np.var(stat_rus)}\")\n",
    "    print(f\"Общее производства эненгии в мире {np.var(stat_glob)}, Общее производства эненгии в России: {np.var(stat_rus)}\")\n",
    "    \n",
    "    "
   ]
  },
  {
   "cell_type": "code",
   "execution_count": null,
   "id": "756ca192",
   "metadata": {},
   "outputs": [],
   "source": []
  }
 ],
 "metadata": {
  "kernelspec": {
   "display_name": "Python 3 (ipykernel)",
   "language": "python",
   "name": "python3"
  },
  "language_info": {
   "codemirror_mode": {
    "name": "ipython",
    "version": 3
   },
   "file_extension": ".py",
   "mimetype": "text/x-python",
   "name": "python",
   "nbconvert_exporter": "python",
   "pygments_lexer": "ipython3",
   "version": "3.9.13"
  }
 },
 "nbformat": 4,
 "nbformat_minor": 5
}
