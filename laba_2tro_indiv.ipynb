{
 "cells": [
  {
   "cell_type": "markdown",
   "id": "ac2c9d77",
   "metadata": {},
   "source": [
    "\n",
    "# Индивидувльное задание:\n",
    "\n",
    "5. Дана целочисленная квадратная матрица. Определить:\n",
    "\n",
    "сумму элементов в тех столбцах, которые не содержат отрицательных элементов;\n",
    "минимум среди сумм модулей элементов диагоналей, параллельных побочной диагонали\n",
    "матрицы.\n"
   ]
  },
  {
   "cell_type": "code",
   "execution_count": 1,
   "id": "45fc940d",
   "metadata": {},
   "outputs": [
    {
     "name": "stdout",
     "output_type": "stream",
     "text": [
      "Введите размер матрицы (NxN): 4\n",
      "   -5    -7    -5     0 \n",
      "   -7    -0    -8   -10 \n",
      "    9    -8     2    -7 \n",
      "    7    -7     1     4 \n",
      "\n",
      "Минимум, среды су=умм диагоналей паралелных побочной:  -21.13272454615847\n"
     ]
    }
   ],
   "source": [
    "import numpy as np \n",
    "n = int(input(\"Введите размер матрицы (NxN): \"))\n",
    "\n",
    "A = 20*np.random.random(size=(n,n)) - 10\n",
    "for Row in range(n):\n",
    "    for Col in range(n):\n",
    "        print(\"{0:>5.0f}\".format(A[Row][Col]), end=\" \")\n",
    "    print()\n",
    "print()\n",
    "\n",
    "summ = 0 \n",
    "isNeg = False\n",
    "\n",
    "for i in range(n):\n",
    "    for j in range(n):\n",
    "        if A[i][j] < 0:\n",
    "            isNeg = True\n",
    "            continue\n",
    "        summ += A[i][j]\n",
    "    if isNeg == False:\n",
    "        print(\"Сумма элементов в столбце без отрицательного элемент: \", summ)\n",
    "    sum = 0\n",
    "    isNeg = False\n",
    "    \n",
    "countDiagonal = 2 * n - 1\n",
    "sumArray = 0\n",
    "minSum = A[0][n-1]\n",
    "for i in range(countDiagonal):\n",
    "    t = n - i - 1\n",
    "    row = -t if t < 0 else 0\n",
    "    col = t if t > 0 else 0\n",
    "    while row < n and col < n:\n",
    "        sumArray += A[row][col]\n",
    "        row += 1\n",
    "        col += 1\n",
    "    if minSum > sumArray:\n",
    "        minSum = sumArray\n",
    "    sumArray = 0\n",
    "print(\"Минимум, среды су=умм диагоналей паралелных побочной: \", minSum)\n"
   ]
  },
  {
   "cell_type": "code",
   "execution_count": null,
   "id": "aae15127",
   "metadata": {},
   "outputs": [],
   "source": []
  }
 ],
 "metadata": {
  "kernelspec": {
   "display_name": "Python 3 (ipykernel)",
   "language": "python",
   "name": "python3"
  },
  "language_info": {
   "codemirror_mode": {
    "name": "ipython",
    "version": 3
   },
   "file_extension": ".py",
   "mimetype": "text/x-python",
   "name": "python",
   "nbconvert_exporter": "python",
   "pygments_lexer": "ipython3",
   "version": "3.9.13"
  }
 },
 "nbformat": 4,
 "nbformat_minor": 5
}
